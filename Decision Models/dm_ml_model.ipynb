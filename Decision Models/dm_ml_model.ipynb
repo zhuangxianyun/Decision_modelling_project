{
 "cells": [
  {
   "cell_type": "markdown",
   "metadata": {},
   "source": [
    "# Addictive Model"
   ]
  },
  {
   "cell_type": "markdown",
   "metadata": {},
   "source": [
    "## Libraries"
   ]
  },
  {
   "cell_type": "code",
   "execution_count": 1,
   "metadata": {},
   "outputs": [],
   "source": [
    "from sklearn.ensemble import RandomForestClassifier\n",
    "from sklearn.neighbors import KNeighborsClassifier\n",
    "from sklearn.naive_bayes import GaussianNB\n",
    "from xgboost import XGBClassifier\n",
    "from sklearn.model_selection import train_test_split, GridSearchCV\n",
    "from sklearn.metrics import accuracy_score, precision_score, recall_score, f1_score\n",
    "from sklearn.preprocessing import MinMaxScaler, PolynomialFeatures\n",
    "from imblearn.over_sampling import SMOTE\n",
    "import pandas as pd\n",
    "import numpy as np\n",
    "from collections import Counter"
   ]
  },
  {
   "cell_type": "markdown",
   "metadata": {},
   "source": [
    "## Import Dataset"
   ]
  },
  {
   "cell_type": "code",
   "execution_count": 2,
   "metadata": {},
   "outputs": [],
   "source": [
    "file_path = '../data/food_data_cleaned.xlsx'\n",
    "food_data = pd.ExcelFile(file_path)"
   ]
  },
  {
   "cell_type": "code",
   "execution_count": 3,
   "metadata": {},
   "outputs": [
    {
     "data": {
      "text/html": [
       "<div>\n",
       "<style scoped>\n",
       "    .dataframe tbody tr th:only-of-type {\n",
       "        vertical-align: middle;\n",
       "    }\n",
       "\n",
       "    .dataframe tbody tr th {\n",
       "        vertical-align: top;\n",
       "    }\n",
       "\n",
       "    .dataframe thead th {\n",
       "        text-align: right;\n",
       "    }\n",
       "</style>\n",
       "<table border=\"1\" class=\"dataframe\">\n",
       "  <thead>\n",
       "    <tr style=\"text-align: right;\">\n",
       "      <th></th>\n",
       "      <th>Food Name</th>\n",
       "      <th>Energy (KJ/100g)</th>\n",
       "      <th>Sugars (g/100g)</th>\n",
       "      <th>Saturated Fat (g/100g)</th>\n",
       "      <th>Salt (g/100g)</th>\n",
       "      <th>Proteins (g/100g)</th>\n",
       "      <th>Fiber (g/100g)</th>\n",
       "      <th>Fruit/Veg (%)</th>\n",
       "      <th>Nutri-Score</th>\n",
       "      <th>Ecoscore</th>\n",
       "    </tr>\n",
       "  </thead>\n",
       "  <tbody>\n",
       "    <tr>\n",
       "      <th>0</th>\n",
       "      <td>Nutella</td>\n",
       "      <td>2252.0</td>\n",
       "      <td>56.3</td>\n",
       "      <td>10.6</td>\n",
       "      <td>0.107</td>\n",
       "      <td>6.3</td>\n",
       "      <td>0.0</td>\n",
       "      <td>0.0</td>\n",
       "      <td>e</td>\n",
       "      <td>21</td>\n",
       "    </tr>\n",
       "    <tr>\n",
       "      <th>1</th>\n",
       "      <td>Sésame</td>\n",
       "      <td>1961.0</td>\n",
       "      <td>17.0</td>\n",
       "      <td>2.0</td>\n",
       "      <td>0.380</td>\n",
       "      <td>10.0</td>\n",
       "      <td>4.6</td>\n",
       "      <td>0.0</td>\n",
       "      <td>b</td>\n",
       "      <td>57</td>\n",
       "    </tr>\n",
       "    <tr>\n",
       "      <th>2</th>\n",
       "      <td>Almonds</td>\n",
       "      <td>2567.0</td>\n",
       "      <td>4.8</td>\n",
       "      <td>4.3</td>\n",
       "      <td>0.010</td>\n",
       "      <td>24.5</td>\n",
       "      <td>12.1</td>\n",
       "      <td>100.0</td>\n",
       "      <td>a</td>\n",
       "      <td>24</td>\n",
       "    </tr>\n",
       "    <tr>\n",
       "      <th>3</th>\n",
       "      <td>Alvalle Gazpacho l'original</td>\n",
       "      <td>168.0</td>\n",
       "      <td>3.3</td>\n",
       "      <td>0.4</td>\n",
       "      <td>0.620</td>\n",
       "      <td>0.9</td>\n",
       "      <td>1.2</td>\n",
       "      <td>0.0</td>\n",
       "      <td>a</td>\n",
       "      <td>82</td>\n",
       "    </tr>\n",
       "    <tr>\n",
       "      <th>4</th>\n",
       "      <td>70% Cacao noir intense</td>\n",
       "      <td>2350.0</td>\n",
       "      <td>30.0</td>\n",
       "      <td>24.0</td>\n",
       "      <td>0.100</td>\n",
       "      <td>9.5</td>\n",
       "      <td>0.0</td>\n",
       "      <td>0.0</td>\n",
       "      <td>e</td>\n",
       "      <td>29</td>\n",
       "    </tr>\n",
       "  </tbody>\n",
       "</table>\n",
       "</div>"
      ],
      "text/plain": [
       "                     Food Name  Energy (KJ/100g)  Sugars (g/100g)  \\\n",
       "0                      Nutella            2252.0             56.3   \n",
       "1                       Sésame            1961.0             17.0   \n",
       "2                      Almonds            2567.0              4.8   \n",
       "3  Alvalle Gazpacho l'original             168.0              3.3   \n",
       "4       70% Cacao noir intense            2350.0             30.0   \n",
       "\n",
       "   Saturated Fat (g/100g)  Salt (g/100g)  Proteins (g/100g)  Fiber (g/100g)  \\\n",
       "0                    10.6          0.107                6.3             0.0   \n",
       "1                     2.0          0.380               10.0             4.6   \n",
       "2                     4.3          0.010               24.5            12.1   \n",
       "3                     0.4          0.620                0.9             1.2   \n",
       "4                    24.0          0.100                9.5             0.0   \n",
       "\n",
       "   Fruit/Veg (%) Nutri-Score  Ecoscore  \n",
       "0            0.0           e        21  \n",
       "1            0.0           b        57  \n",
       "2          100.0           a        24  \n",
       "3            0.0           a        82  \n",
       "4            0.0           e        29  "
      ]
     },
     "execution_count": 3,
     "metadata": {},
     "output_type": "execute_result"
    }
   ],
   "source": [
    "data = food_data.parse('Sheet1')\n",
    "data.head()"
   ]
  },
  {
   "cell_type": "code",
   "execution_count": 4,
   "metadata": {},
   "outputs": [],
   "source": [
    "def AnotherMethodNutriScore(data, nutri_score_mapping, test_size=0.8, random_state=1):\n",
    "    data['Nutri-Score'] = data['Nutri-Score'].map(nutri_score_mapping)\n",
    "    data = data.dropna(subset=['Nutri-Score'])\n",
    "    data['Nutri-Score'] -= 1\n",
    "\n",
    "    features = ['Energy (KJ/100g)', 'Proteins (g/100g)', 'Salt (g/100g)', \n",
    "                'Fiber (g/100g)', 'Saturated Fat (g/100g)', 'Sugars (g/100g)', \n",
    "                'Fruit/Veg (%)', 'Ecoscore']\n",
    "    X = data[features]\n",
    "    y = data['Nutri-Score']\n",
    "    \n",
    "    scaler = MinMaxScaler()\n",
    "    X = scaler.fit_transform(X)\n",
    "    \n",
    "    poly = PolynomialFeatures(degree=2, interaction_only=True, include_bias=False)\n",
    "    X = poly.fit_transform(X)\n",
    "    \n",
    "    print(\"Class Distribution Before Resampling:\", Counter(y))\n",
    "    \n",
    "    smote = SMOTE(random_state=random_state)\n",
    "    X, y = smote.fit_resample(X, y)\n",
    "    \n",
    "    print(\"Class Distribution After Resampling:\", Counter(y))\n",
    "    \n",
    "    X_train, X_test, y_train, y_test = train_test_split(X, y, test_size=test_size, random_state=random_state)\n",
    "    \n",
    "    models = {\n",
    "        \"Random Forest\": RandomForestClassifier(random_state=random_state, class_weight=\"balanced\"),\n",
    "        \"K-Nearest Neighbors\": KNeighborsClassifier(n_neighbors=5),\n",
    "        \"Gaussian Naive Bayes\": GaussianNB(),\n",
    "        \"XGBoost\": XGBClassifier(random_state=random_state, use_label_encoder=False, eval_metric='mlogloss')\n",
    "    }\n",
    "    \n",
    "    performance = []\n",
    "    \n",
    "    for name, model in models.items():\n",
    "        model.fit(X_train, y_train)\n",
    "        y_pred = model.predict(X_test)\n",
    "        y_pred += 1\n",
    "        y_test_orig = y_test + 1\n",
    "        accuracy = accuracy_score(y_test_orig, y_pred)\n",
    "        precision = precision_score(y_test_orig, y_pred, average='weighted')\n",
    "        recall = recall_score(y_test_orig, y_pred, average='weighted')\n",
    "        f1 = f1_score(y_test_orig, y_pred, average='weighted')\n",
    "        performance.append({\n",
    "            \"Model\": name,\n",
    "            \"Accuracy\": accuracy,\n",
    "            \"Precision\": precision,\n",
    "            \"Recall\": recall,\n",
    "            \"F1-Score\": f1\n",
    "        })\n",
    "    \n",
    "    performance_df = pd.DataFrame(performance)\n",
    "    return performance_df\n",
    "\n",
    "# Example Usage\n"
   ]
  },
  {
   "cell_type": "code",
   "execution_count": 5,
   "metadata": {},
   "outputs": [
    {
     "name": "stdout",
     "output_type": "stream",
     "text": [
      "Class Distribution Before Resampling: Counter({1: 193, 4: 177, 2: 144, 0: 109, 3: 97})\n",
      "Class Distribution After Resampling: Counter({0: 193, 3: 193, 4: 193, 1: 193, 2: 193})\n",
      "                  Model  Accuracy  Precision    Recall  F1-Score\n",
      "0         Random Forest  0.705959   0.707617  0.705959  0.705794\n",
      "1   K-Nearest Neighbors  0.588083   0.591620  0.588083  0.583740\n",
      "2  Gaussian Naive Bayes  0.446891   0.463481  0.446891  0.357750\n",
      "3               XGBoost  0.722798   0.724381  0.722798  0.722906\n"
     ]
    },
    {
     "name": "stderr",
     "output_type": "stream",
     "text": [
      "/home/yutao/.local/lib/python3.10/site-packages/xgboost/core.py:158: UserWarning: [18:16:37] WARNING: /workspace/src/learner.cc:740: \n",
      "Parameters: { \"use_label_encoder\" } are not used.\n",
      "\n",
      "  warnings.warn(smsg, UserWarning)\n"
     ]
    }
   ],
   "source": [
    "if __name__ == \"__main__\":\n",
    "    nutri_score_mapping = {'a': 5, 'b': 4, 'c': 3, 'd': 2, 'e': 1}\n",
    "    \n",
    "    results = AnotherMethodNutriScore(data, nutri_score_mapping)\n",
    "    print(results)"
   ]
  }
 ],
 "metadata": {
  "kernelspec": {
   "display_name": "Python 3",
   "language": "python",
   "name": "python3"
  },
  "language_info": {
   "codemirror_mode": {
    "name": "ipython",
    "version": 3
   },
   "file_extension": ".py",
   "mimetype": "text/x-python",
   "name": "python",
   "nbconvert_exporter": "python",
   "pygments_lexer": "ipython3",
   "version": "3.10.12"
  }
 },
 "nbformat": 4,
 "nbformat_minor": 2
}
